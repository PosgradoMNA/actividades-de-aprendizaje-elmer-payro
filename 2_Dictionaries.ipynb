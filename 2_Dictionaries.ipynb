{
  "cells": [
    {
      "cell_type": "code",
      "execution_count": 4,
      "metadata": {
        "trusted": true
      },
      "outputs": [
        {
          "data": {
            "text/plain": [
              "{'The Bodyguard': '1992', 'Saturday Night Fever': '1977'}"
            ]
          },
          "execution_count": 4,
          "metadata": {},
          "output_type": "execute_result"
        }
      ],
      "source": [
        "# Question sample dictionary\n",
        "\n",
        "soundtrack_dic = {\"The Bodyguard\":\"1992\", \"Saturday Night Fever\":\"1977\"}\n",
        "soundtrack_dic "
      ]
    },
    {
      "cell_type": "markdown",
      "metadata": {},
      "source": [
        "a) In the dictionary <code>soundtrack_dic</code> what are the keys ?\n"
      ]
    },
    {
      "cell_type": "code",
      "execution_count": 5,
      "metadata": {
        "trusted": true
      },
      "outputs": [
        {
          "data": {
            "text/plain": [
              "dict_keys(['The Bodyguard', 'Saturday Night Fever'])"
            ]
          },
          "execution_count": 5,
          "metadata": {},
          "output_type": "execute_result"
        }
      ],
      "source": [
        "# Write your code below and press Shift+Enter to execute\n",
        "soundtrack_dic.keys()"
      ]
    },
    {
      "cell_type": "markdown",
      "metadata": {},
      "source": [
        "b) In the dictionary <code>soundtrack_dic</code> what are the values ?\n"
      ]
    },
    {
      "cell_type": "code",
      "execution_count": 6,
      "metadata": {
        "trusted": true
      },
      "outputs": [
        {
          "data": {
            "text/plain": [
              "dict_values(['1992', '1977'])"
            ]
          },
          "execution_count": 6,
          "metadata": {},
          "output_type": "execute_result"
        }
      ],
      "source": [
        "# Write your code below and press Shift+Enter to execute\n",
        "soundtrack_dic.values()"
      ]
    },
    {
      "cell_type": "markdown",
      "metadata": {},
      "source": [
        "a) Create a dictionary <code>album_sales_dict</code> where the keys are the album name and the sales in millions are the values.\n"
      ]
    },
    {
      "cell_type": "code",
      "execution_count": 7,
      "metadata": {
        "trusted": true
      },
      "outputs": [],
      "source": [
        "# Write your code below and press Shift+Enter to execute\n",
        "album_sales_dict = {\"Back in Black\": 50, \"The Bodyguard\":50, \"Thriller\":65}"
      ]
    },
    {
      "cell_type": "markdown",
      "metadata": {},
      "source": [
        "b) Use the dictionary to find the total sales of <b>Thriller</b>:\n"
      ]
    },
    {
      "cell_type": "code",
      "execution_count": 8,
      "metadata": {
        "collapsed": false,
        "jupyter": {
          "outputs_hidden": false
        },
        "trusted": true
      },
      "outputs": [
        {
          "data": {
            "text/plain": [
              "65"
            ]
          },
          "execution_count": 8,
          "metadata": {},
          "output_type": "execute_result"
        }
      ],
      "source": [
        "# Write your code below and press Shift+Enter to execute\n",
        "album_sales_dict[\"Thriller\"]"
      ]
    },
    {
      "cell_type": "markdown",
      "metadata": {},
      "source": [
        "c) Find the names of the albums from the dictionary using the method <code>keys()</code>:\n"
      ]
    },
    {
      "cell_type": "code",
      "execution_count": 9,
      "metadata": {
        "collapsed": false,
        "jupyter": {
          "outputs_hidden": false
        },
        "trusted": true
      },
      "outputs": [
        {
          "data": {
            "text/plain": [
              "dict_keys(['Back in Black', 'The Bodyguard', 'Thriller'])"
            ]
          },
          "execution_count": 9,
          "metadata": {},
          "output_type": "execute_result"
        }
      ],
      "source": [
        "# Write your code below and press Shift+Enter to execute\n",
        "album_sales_dict.keys()"
      ]
    },
    {
      "cell_type": "markdown",
      "metadata": {},
      "source": [
        "d) Find the values of the recording sales from the dictionary using the method <code>values</code>:\n"
      ]
    },
    {
      "cell_type": "code",
      "execution_count": 10,
      "metadata": {
        "collapsed": false,
        "jupyter": {
          "outputs_hidden": false
        },
        "trusted": true
      },
      "outputs": [
        {
          "data": {
            "text/plain": [
              "dict_values([50, 50, 65])"
            ]
          },
          "execution_count": 10,
          "metadata": {},
          "output_type": "execute_result"
        }
      ],
      "source": [
        "# Write your code below and press Shift+Enter to execute\n",
        "album_sales_dict.values()"
      ]
    }
  ],
  "metadata": {
    "kernelspec": {
      "display_name": "Python 3.9.6 64-bit",
      "language": "python",
      "name": "python3"
    },
    "language_info": {
      "codemirror_mode": {
        "name": "python",
        "version": 3
      },
      "file_extension": ".py",
      "mimetype": "text/x-python",
      "name": "python",
      "nbconvert_exporter": "python",
      "pygments_lexer": "ipython3",
      "version": "3.9.6"
    },
    "vscode": {
      "interpreter": {
        "hash": "730aed0ada867cceee64c73b7131a59a49e43c19f8787c82341e12633e264d66"
      }
    }
  },
  "nbformat": 4,
  "nbformat_minor": 4
}
