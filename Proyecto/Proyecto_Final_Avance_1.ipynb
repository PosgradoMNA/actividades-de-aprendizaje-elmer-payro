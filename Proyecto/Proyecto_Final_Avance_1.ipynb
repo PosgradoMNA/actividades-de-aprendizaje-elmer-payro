{
 "cells": [
  {
   "cell_type": "markdown",
   "metadata": {},
   "source": [
    "# Proyecto Final\n",
    "Elmer Payro - A01014943\n",
    "\n",
    "## Calidad del aire en la CDMX"
   ]
  },
  {
   "cell_type": "markdown",
   "metadata": {},
   "source": [
    "* Generado por: Gobierno de la CDMX\n",
    "* URL: http://www.aire.cdmx.gob.mx/default.php?opc=%27aKBhnmM=%27\n",
    "* Descripción: Contiene mediciones del aire sobre distintas particulas como CO, SO2, NO2, O3, NOx, etc desde el año 1986 hasta la fecha"
   ]
  },
  {
   "cell_type": "markdown",
   "metadata": {},
   "source": [
    "¿Cuáles son algunas de las preguntas de investigación que podría responder con estos datos? Enumere al menos OCHO (no responda las preguntas).\n",
    "1. ¿Qué particulas tienen la mayor concentración en el valle de México?\n",
    "2. ¿Qué niveles de concentración han alcanzado históricamente?\n",
    "3. ¿Cuales son las más dañinas para el ser humano?\n",
    "4. ¿Hay alguna temporalidad en el aumento o disminución de las partículas dañinas?\n",
    "5. ¿Que porcentaje de días hay una calidad buena/mala del aire en la ciudad?\n",
    "6. ¿Qué tendencia tiene la contaminación ambiental? \n",
    "7. ¿La temperatura afecta los niveles de contaminación?\n",
    "8. ¿Qué zonas son las más contaminadas?\n"
   ]
  },
  {
   "cell_type": "markdown",
   "metadata": {},
   "source": [
    "¿Qué actor (empresa, sector de la sociedad, organismo descentralizado, gobierno, etc.) estaría interesado en las preguntas mencionadas que identificó?\n",
    "Cualquier persona interesada en la disminución de la contaminación y el combate al cambio climático"
   ]
  }
 ],
 "metadata": {
  "language_info": {
   "name": "python"
  },
  "orig_nbformat": 4
 },
 "nbformat": 4,
 "nbformat_minor": 2
}
